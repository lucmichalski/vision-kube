{
 "metadata": {
  "name": "",
  "signature": "sha256:b80caef61b0be4fcf6448912f754fed515024741e1048a14ad085b7a3a5c37ce"
 },
 "nbformat": 3,
 "nbformat_minor": 0,
 "worksheets": [
  {
   "cells": [
    {
     "cell_type": "markdown",
     "metadata": {},
     "source": [
      "Goal is to work out the basics of how to use multiprocessing and the IPython Parallel"
     ]
    },
    {
     "cell_type": "markdown",
     "metadata": {},
     "source": [
      "http://pymotw.com/2/multiprocessing/"
     ]
    },
    {
     "cell_type": "code",
     "collapsed": false,
     "input": [
      "# http://pymotw.com/2/multiprocessing/basics.html\n",
      "\n",
      "import multiprocessing\n",
      "\n",
      "def worker():\n",
      "    \"\"\"worker function\"\"\"\n",
      "    print 'Worker'\n",
      "    return\n",
      "\n",
      "if __name__ == '__main__':\n",
      "    jobs = []\n",
      "    for i in range(5):\n",
      "        p = multiprocessing.Process(target=worker)\n",
      "        jobs.append(p)\n",
      "        p.start()"
     ],
     "language": "python",
     "metadata": {},
     "outputs": []
    },
    {
     "cell_type": "code",
     "collapsed": false,
     "input": [],
     "language": "python",
     "metadata": {},
     "outputs": []
    },
    {
     "cell_type": "code",
     "collapsed": false,
     "input": [
      "# \n",
      "\n",
      "import urllib2 \n",
      "from multiprocessing.dummy import Pool as ThreadPool \n",
      "\n",
      "urls = [\n",
      "    'http://www.python.org', \n",
      "    'http://www.python.org/about/',\n",
      "    'http://www.onlamp.com/pub/a/python/2003/04/17/metaclasses.html',\n",
      "    'http://www.python.org/doc/',\n",
      "    'http://www.python.org/download/',\n",
      "    'http://www.python.org/getit/',\n",
      "    'http://www.python.org/community/',\n",
      "    'https://wiki.python.org/moin/',\n",
      "    'http://planet.python.org/',\n",
      "    'https://wiki.python.org/moin/LocalUserGroups',\n",
      "    'http://www.python.org/psf/',\n",
      "    'http://docs.python.org/devguide/',\n",
      "    'http://www.python.org/community/awards/'\n",
      "    # etc.. \n",
      "]\n",
      "\n",
      "def urlopen(url):\n",
      "    try:\n",
      "        return urllib2.urlopen(url)\n",
      "    except:\n",
      "        return None\n",
      "\n",
      "def run_with_pool(n):\n",
      "    pool = ThreadPool(n) \n",
      "    results = pool.map(urlopen, urls)\n",
      "    pool.close()\n",
      "    pool.join()\n",
      "    return results"
     ],
     "language": "python",
     "metadata": {},
     "outputs": []
    },
    {
     "cell_type": "code",
     "collapsed": false,
     "input": [
      "%time [urlopen(url) for url in urls]"
     ],
     "language": "python",
     "metadata": {},
     "outputs": []
    },
    {
     "cell_type": "code",
     "collapsed": false,
     "input": [
      "%time run_with_pool(16)"
     ],
     "language": "python",
     "metadata": {},
     "outputs": []
    },
    {
     "cell_type": "code",
     "collapsed": false,
     "input": [
      "\n",
      "# Make the Pool of workers\n",
      "pool = ThreadPool(4) \n",
      "# Open the urls in their own threads\n",
      "# and return the results\n",
      "results = pool.map(urlopen, urls)\n",
      "#close the pool and wait for the work to finish \n",
      "pool.close() \n",
      "pool.join() \n",
      "\n",
      "results = [] \n",
      "for url in urls:\n",
      "    result = urlopen(url)\n",
      "    results.append(result)\n",
      "\n",
      "# ------- VERSUS ------- # \n",
      "\n",
      "\n",
      "# ------- 4 Pool ------- # \n",
      "pool = ThreadPool(4) \n",
      "results = pool.map(urlopen, urls)\n",
      "\n",
      "# ------- 8 Pool ------- # \n",
      "\n",
      "pool = ThreadPool(8) \n",
      "results = pool.map(urlopen, urls)\n",
      "\n",
      "# ------- 13 Pool ------- # \n",
      "\n",
      "pool = ThreadPool(13) \n",
      "results = pool.map(urlopen, urls)\n",
      "\n",
      "\n",
      "\n",
      "\n",
      "# \t\t\t\t\t\tSingle thread:  14.4 Seconds \n",
      "# \t\t\t\t\t\t       4 Pool:   3.1 Seconds\n",
      "# \t\t\t\t\t\t       8 Pool:   1.4 Seconds\n",
      "# \t\t\t\t\t\t      13 Pool:   1.3 Seconds\n",
      "\n",
      "\n",
      "\n"
     ],
     "language": "python",
     "metadata": {},
     "outputs": []
    },
    {
     "cell_type": "heading",
     "level": 1,
     "metadata": {},
     "source": [
      "Asynchronous approaches"
     ]
    },
    {
     "cell_type": "markdown",
     "metadata": {},
     "source": [
      "https://docs.python.org/2/library/multiprocessing.html#module-multiprocessing.pool"
     ]
    },
    {
     "cell_type": "code",
     "collapsed": false,
     "input": [
      "import multiprocessing\n",
      "from multiprocessing import Pool\n",
      "from multiprocessing.dummy import Pool as ThreadPool\n",
      "\n",
      "from math import factorial\n",
      "\n",
      "POOL_SIZE = 8\n",
      "pool = ThreadPool(POOL_SIZE)\n",
      "inputs = range(100)\n",
      "\n",
      "results = pool.map_async(factorial, inputs)"
     ],
     "language": "python",
     "metadata": {},
     "outputs": []
    },
    {
     "cell_type": "markdown",
     "metadata": {},
     "source": [
      "I'm surprised that `map_async` returns a single [AsyncResult object](https://docs.python.org/2/library/multiprocessing.html#multiprocessing.pool.AsyncResult) and doesn't seem to provide visibility into the progress of individual parts. "
     ]
    },
    {
     "cell_type": "code",
     "collapsed": false,
     "input": [
      "results.wait()\n",
      "if results.successful():\n",
      "    print results.get()"
     ],
     "language": "python",
     "metadata": {},
     "outputs": []
    },
    {
     "cell_type": "heading",
     "level": 1,
     "metadata": {},
     "source": [
      "pool.imap_unordered"
     ]
    },
    {
     "cell_type": "markdown",
     "metadata": {},
     "source": [
      "https://docs.python.org/2/library/multiprocessing.html#multiprocessing.pool.multiprocessing.Pool.imap_unordered"
     ]
    },
    {
     "cell_type": "code",
     "collapsed": false,
     "input": [
      "import multiprocessing\n",
      "from multiprocessing import Pool\n",
      "from multiprocessing.dummy import Pool as ThreadPool\n",
      "\n",
      "from math import factorial\n",
      "\n",
      "def factorial_calc(n):\n",
      "    return (n, factorial(n))\n",
      "\n",
      "POOL_SIZE = 16\n",
      "pool = ThreadPool(POOL_SIZE)\n",
      "inputs = range(10000)\n",
      "\n",
      "results = pool.imap_unordered(factorial_calc, inputs, 1)"
     ],
     "language": "python",
     "metadata": {},
     "outputs": []
    },
    {
     "cell_type": "code",
     "collapsed": false,
     "input": [
      "for (i, result) in enumerate(results):\n",
      "    print (i,)"
     ],
     "language": "python",
     "metadata": {},
     "outputs": []
    },
    {
     "cell_type": "markdown",
     "metadata": {},
     "source": [
      "What happens if there is an exception?\n",
      "\n"
     ]
    },
    {
     "cell_type": "markdown",
     "metadata": {},
     "source": [
      "What happens if there is an exception?  Answer:  need to catch exception in function"
     ]
    },
    {
     "cell_type": "code",
     "collapsed": false,
     "input": [
      "from multiprocessing.dummy import Pool as ThreadPool\n",
      "from math import factorial\n",
      "\n",
      "def factorial_calc(n):\n",
      "    try:\n",
      "        return (n, factorial(n))\n",
      "    except Exception, e:\n",
      "        return (n, e)\n",
      "\n",
      "POOL_SIZE = 16\n",
      "pool = ThreadPool(POOL_SIZE)\n",
      "inputs = [9.3] + range(1000)\n",
      "\n",
      "results = pool.imap_unordered(factorial_calc, inputs, 100)"
     ],
     "language": "python",
     "metadata": {},
     "outputs": []
    },
    {
     "cell_type": "code",
     "collapsed": false,
     "input": [
      "for (i, result) in enumerate(results):\n",
      "    try:\n",
      "        print (i, result[0]), \n",
      "    except Exception, e:\n",
      "        print e"
     ],
     "language": "python",
     "metadata": {},
     "outputs": []
    },
    {
     "cell_type": "code",
     "collapsed": false,
     "input": [
      "#http://stackoverflow.com/a/7715670/7782\n",
      "\n",
      "from __future__ import print_function\n",
      "\n",
      "import sys, time\n",
      "\n",
      "for i in xrange(0, 101, 10):\n",
      "  print ('\\r>> You have finished %d%%' % i, end=\"\")\n",
      "  time.sleep(2)\n",
      "print"
     ],
     "language": "python",
     "metadata": {},
     "outputs": []
    },
    {
     "cell_type": "heading",
     "level": 1,
     "metadata": {},
     "source": [
      "Threads vs Processes "
     ]
    },
    {
     "cell_type": "code",
     "collapsed": false,
     "input": [
      "from multiprocessing.dummy import Pool as ThreadPool\n",
      "from multiprocessing import Pool as ProcessPool\n",
      "\n",
      "from math import factorial\n",
      "\n",
      "def factorial_calc(n):\n",
      "    try:\n",
      "        return (n, factorial(n))\n",
      "    except Exception, e:\n",
      "\n",
      "        return (n, e)\n",
      "\n",
      "def calc_factorials(max_int=1000, pool_size=8, threads=True, chunk_size=10):\n",
      "    \n",
      "    if threads:\n",
      "        pool = ThreadPool(pool_size)\n",
      "    else:\n",
      "        pool = ProcessPool(pool_size)\n",
      "        \n",
      "    results = pool.map(factorial_calc, range(max_int), chunk_size)\n",
      "    pool.close()\n",
      "    pool.join()\n",
      "    return results\n",
      "\n"
     ],
     "language": "python",
     "metadata": {},
     "outputs": []
    },
    {
     "cell_type": "code",
     "collapsed": false,
     "input": [
      "%time results = calc_factorials(5000, pool_size=8, threads=True, chunk_size=10)"
     ],
     "language": "python",
     "metadata": {},
     "outputs": []
    },
    {
     "cell_type": "code",
     "collapsed": false,
     "input": [
      "%time results = calc_factorials(20000, pool_size=8, threads=False, chunk_size=10)"
     ],
     "language": "python",
     "metadata": {},
     "outputs": []
    },
    {
     "cell_type": "heading",
     "level": 1,
     "metadata": {},
     "source": [
      "IPython Parallel"
     ]
    },
    {
     "cell_type": "code",
     "collapsed": false,
     "input": [],
     "language": "python",
     "metadata": {},
     "outputs": []
    }
   ],
   "metadata": {}
  }
 ]
}